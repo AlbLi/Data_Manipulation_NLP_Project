{
 "cells": [
  {
   "cell_type": "code",
   "execution_count": null,
   "id": "a733ab12-504c-40d4-b8b1-4f74f15af259",
   "metadata": {},
   "outputs": [],
   "source": [
    "from selenium import webdriver\n",
    "import time\n",
    "import pandas as pd\n",
    "def extract_university_info(url):\n",
    "    driver = webdriver.Chrome()\n",
    "    driver.get(url)\n",
    "    time.sleep(4)\n",
    "\n",
    "    xpaths = [\n",
    "    '//*[@id=\"lite-page\"]/main/section/section[1]/div/div/div[3]/div[1]/div/div/div/div[2]/div[1]/div/div/div/ul/li/span/a',\n",
    "    '//*[@id=\"lite-page\"]/main/section/section[1]/div/div/div[3]/div[2]/div/div/div/div[2]/div[1]/div/div/div/ul/li/span/a',\n",
    "    '//*[@id=\"lite-page\"]/main/section/section[1]/div/div/div[3]/div[3]/div/div/div/div[2]/div[1]/div/div/div/ul/li/span/a',\n",
    "    '//*[@id=\"lite-page\"]/main/section/section[1]/div/div/div[3]/div[4]/div/div/div/div[2]/div[1]/div/div/div/ul/li/span/a',\n",
    "    '//*[@id=\"lite-page\"]/main/section/section[1]/div/div/div[3]/div[5]/div/div/div/div[2]/div[1]/div/div/div/ul/li/span/a',\n",
    "    '//*[@id=\"lite-page\"]/main/section/section[1]/div/div/div[3]/div[6]/div/div/div/div[2]/div[1]/div/div/div/ul/li/span/a',\n",
    "    '//*[@id=\"lite-page\"]/main/section/section[1]/div/div/div[3]/div[7]/div/div/div/div[2]/div[1]/div/div/div/ul/li/span/a',\n",
    "    '//*[@id=\"lite-page\"]/main/section/section[1]/div/div/div[3]/div[8]/div/div/div/div[2]/div[1]/div/div/div/ul/li/span/a',\n",
    "    ]\n",
    "\n",
    "    university_info = None\n",
    "\n",
    "    for xpath in xpaths:\n",
    "        try:\n",
    "            element = driver.find_element(\"xpath\", xpath)\n",
    "            university_info = element.text.strip()\n",
    "            if university_info:\n",
    "                break\n",
    "        except Exception:\n",
    "            pass\n",
    "\n",
    "    driver.quit()\n",
    "    return university_info\n",
    "\n",
    "# Read the URLs from the CSV file\n",
    "file_path = \"updated_bik_rg.csv\" \n",
    "df = pd.read_csv(file_path, encoding='latin1')\n",
    "university_info_list = []\n",
    "\n",
    "for i, row in df.iterrows():\n",
    "    url = row[\"ResearchGate_Link\"] \n",
    "\n",
    "    # Check if the URL is NaN (missing)\n",
    "    if pd.notna(url):\n",
    "        university_info = extract_university_info(url)\n",
    "    else:\n",
    "        # URL is NaN, so assign NaN to the \"University Information\" column\n",
    "        university_info = float('nan')\n",
    "    \n",
    "    university_info_list.append(university_info)\n",
    "\n",
    "# Save the updated DataFrame back to the CSV file\n",
    "df.to_csv(file_path, index=False)"
   ]
  },
  {
   "cell_type": "code",
   "execution_count": null,
   "id": "a5ccaabd-fcfb-4da7-b0e6-58378c65f377",
   "metadata": {},
   "outputs": [],
   "source": [
    "num_elements = len(university_info_list)\n",
    "university_info_list\n",
    "num_none_values = 0\n",
    "for item in university_info_list:\n",
    "    if item is None:\n",
    "        num_none_values += 1\n",
    "\n",
    "# Print the result\n",
    "print(\"Number of None values in university_info_list:\", num_none_values)"
   ]
  },
  {
   "cell_type": "code",
   "execution_count": null,
   "id": "e5cdeb6a-bc66-4f55-beda-e74b8cb4b227",
   "metadata": {},
   "outputs": [],
   "source": [
    "csv_path = \"updated_bik_rg.csv\"  \n",
    "df = pd.read_csv(csv_path)\n",
    "\n",
    "df[\"university/institution\"] = university_info_list\n",
    "\n",
    "# Save the updated DataFrame back to the CSV file\n",
    "df.to_csv(csv_path, index=False)"
   ]
  }
 ],
 "metadata": {
  "kernelspec": {
   "display_name": "Python 3",
   "language": "python",
   "name": "python3"
  },
  "language_info": {
   "codemirror_mode": {
    "name": "ipython",
    "version": 3
   },
   "file_extension": ".py",
   "mimetype": "text/x-python",
   "name": "python",
   "nbconvert_exporter": "python",
   "pygments_lexer": "ipython3",
   "version": "3.8.8"
  }
 },
 "nbformat": 4,
 "nbformat_minor": 5
}
