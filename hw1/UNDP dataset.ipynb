{
 "cells": [
  {
   "cell_type": "code",
   "execution_count": 1,
   "id": "388b0145",
   "metadata": {},
   "outputs": [],
   "source": [
    "import pandas as pd"
   ]
  },
  {
   "cell_type": "code",
   "execution_count": 2,
   "id": "1bbb7c39",
   "metadata": {},
   "outputs": [],
   "source": [
    "df=pd.read_csv('2_5_clean.csv')"
   ]
  },
  {
   "cell_type": "code",
   "execution_count": 3,
   "id": "4ee66ef8",
   "metadata": {
    "scrolled": true
   },
   "outputs": [],
   "source": [
    "#df.head()"
   ]
  },
  {
   "cell_type": "markdown",
   "id": "63ca6127",
   "metadata": {},
   "source": [
    "## 1. Data Cleaning"
   ]
  },
  {
   "cell_type": "code",
   "execution_count": 4,
   "id": "6959c507",
   "metadata": {},
   "outputs": [],
   "source": [
    "def name(x):\n",
    "    if x=='Scotland,UK':\n",
    "        x='United Kingdom'\n",
    "    elif x=='Slovenije':\n",
    "        x='Slovenia'\n",
    "    elif x==\"People's Republic of China\":\n",
    "        x='China'\n",
    "    elif x=='Hong Kong':\n",
    "        x='Hong Kong, China (SAR)'\n",
    "    elif x=='Taiwan':\n",
    "        x='China'\n",
    "    elif x=='South Korea':\n",
    "        x='Korea (Republic of)'\n",
    "    elif x=='England':\n",
    "        x='United Kingdom'\n",
    "    elif x=='Iran':\n",
    "        x='Iran (Islamic Republic of)'\n",
    "    elif x=='Republic of China':\n",
    "        x='China'\n",
    "    elif x=='US':\n",
    "        x='United States'\n",
    "    elif x=='United Kindoms':\n",
    "        x='United Kingdom'\n",
    "    elif x=='Northern Ireland':\n",
    "        x='United Kingdom'\n",
    "    return x"
   ]
  },
  {
   "cell_type": "code",
   "execution_count": 5,
   "id": "a86c8190",
   "metadata": {},
   "outputs": [],
   "source": [
    "df['Location']=df['Location'].apply(name)"
   ]
  },
  {
   "cell_type": "code",
   "execution_count": 6,
   "id": "dd3f6e51",
   "metadata": {},
   "outputs": [],
   "source": [
    "#df.iloc[157]"
   ]
  },
  {
   "cell_type": "markdown",
   "id": "4501491f",
   "metadata": {},
   "source": [
    "## 2. Finding HDI"
   ]
  },
  {
   "cell_type": "code",
   "execution_count": 7,
   "id": "3c77aa37",
   "metadata": {},
   "outputs": [],
   "source": [
    "df_un=pd.read_csv('HDR21-22_Composite_indices_complete_time_series.csv')"
   ]
  },
  {
   "cell_type": "code",
   "execution_count": 8,
   "id": "cc3d4b6d",
   "metadata": {},
   "outputs": [
    {
     "data": {
      "text/html": [
       "<div>\n",
       "<style scoped>\n",
       "    .dataframe tbody tr th:only-of-type {\n",
       "        vertical-align: middle;\n",
       "    }\n",
       "\n",
       "    .dataframe tbody tr th {\n",
       "        vertical-align: top;\n",
       "    }\n",
       "\n",
       "    .dataframe thead th {\n",
       "        text-align: right;\n",
       "    }\n",
       "</style>\n",
       "<table border=\"1\" class=\"dataframe\">\n",
       "  <thead>\n",
       "    <tr style=\"text-align: right;\">\n",
       "      <th></th>\n",
       "      <th>iso3</th>\n",
       "      <th>country</th>\n",
       "      <th>hdicode</th>\n",
       "      <th>region</th>\n",
       "      <th>hdi_rank_2021</th>\n",
       "      <th>hdi_1990</th>\n",
       "      <th>hdi_1991</th>\n",
       "      <th>hdi_1992</th>\n",
       "      <th>hdi_1993</th>\n",
       "      <th>hdi_1994</th>\n",
       "      <th>...</th>\n",
       "      <th>mf_2012</th>\n",
       "      <th>mf_2013</th>\n",
       "      <th>mf_2014</th>\n",
       "      <th>mf_2015</th>\n",
       "      <th>mf_2016</th>\n",
       "      <th>mf_2017</th>\n",
       "      <th>mf_2018</th>\n",
       "      <th>mf_2019</th>\n",
       "      <th>mf_2020</th>\n",
       "      <th>mf_2021</th>\n",
       "    </tr>\n",
       "  </thead>\n",
       "  <tbody>\n",
       "    <tr>\n",
       "      <th>0</th>\n",
       "      <td>AFG</td>\n",
       "      <td>Afghanistan</td>\n",
       "      <td>Low</td>\n",
       "      <td>SA</td>\n",
       "      <td>180.0</td>\n",
       "      <td>0.273</td>\n",
       "      <td>0.279</td>\n",
       "      <td>0.287</td>\n",
       "      <td>0.297</td>\n",
       "      <td>0.292</td>\n",
       "      <td>...</td>\n",
       "      <td>1.860000</td>\n",
       "      <td>1.880000</td>\n",
       "      <td>1.660000</td>\n",
       "      <td>1.620000</td>\n",
       "      <td>1.660000</td>\n",
       "      <td>1.410000</td>\n",
       "      <td>1.320000</td>\n",
       "      <td>1.380000</td>\n",
       "      <td>1.380000</td>\n",
       "      <td>1.380000</td>\n",
       "    </tr>\n",
       "    <tr>\n",
       "      <th>1</th>\n",
       "      <td>AGO</td>\n",
       "      <td>Angola</td>\n",
       "      <td>Medium</td>\n",
       "      <td>SSA</td>\n",
       "      <td>148.0</td>\n",
       "      <td>NaN</td>\n",
       "      <td>NaN</td>\n",
       "      <td>NaN</td>\n",
       "      <td>NaN</td>\n",
       "      <td>NaN</td>\n",
       "      <td>...</td>\n",
       "      <td>4.090000</td>\n",
       "      <td>4.530000</td>\n",
       "      <td>3.970000</td>\n",
       "      <td>3.590000</td>\n",
       "      <td>2.790000</td>\n",
       "      <td>2.640000</td>\n",
       "      <td>2.280000</td>\n",
       "      <td>2.180000</td>\n",
       "      <td>2.180000</td>\n",
       "      <td>2.180000</td>\n",
       "    </tr>\n",
       "    <tr>\n",
       "      <th>2</th>\n",
       "      <td>ALB</td>\n",
       "      <td>Albania</td>\n",
       "      <td>High</td>\n",
       "      <td>ECA</td>\n",
       "      <td>67.0</td>\n",
       "      <td>0.647</td>\n",
       "      <td>0.629</td>\n",
       "      <td>0.614</td>\n",
       "      <td>0.617</td>\n",
       "      <td>0.624</td>\n",
       "      <td>...</td>\n",
       "      <td>12.440000</td>\n",
       "      <td>11.490000</td>\n",
       "      <td>13.140000</td>\n",
       "      <td>12.610000</td>\n",
       "      <td>14.390000</td>\n",
       "      <td>14.460000</td>\n",
       "      <td>12.850000</td>\n",
       "      <td>12.960000</td>\n",
       "      <td>12.960000</td>\n",
       "      <td>12.960000</td>\n",
       "    </tr>\n",
       "    <tr>\n",
       "      <th>3</th>\n",
       "      <td>AND</td>\n",
       "      <td>Andorra</td>\n",
       "      <td>Very High</td>\n",
       "      <td>NaN</td>\n",
       "      <td>40.0</td>\n",
       "      <td>NaN</td>\n",
       "      <td>NaN</td>\n",
       "      <td>NaN</td>\n",
       "      <td>NaN</td>\n",
       "      <td>NaN</td>\n",
       "      <td>...</td>\n",
       "      <td>NaN</td>\n",
       "      <td>NaN</td>\n",
       "      <td>NaN</td>\n",
       "      <td>NaN</td>\n",
       "      <td>NaN</td>\n",
       "      <td>NaN</td>\n",
       "      <td>NaN</td>\n",
       "      <td>NaN</td>\n",
       "      <td>NaN</td>\n",
       "      <td>NaN</td>\n",
       "    </tr>\n",
       "    <tr>\n",
       "      <th>4</th>\n",
       "      <td>ARE</td>\n",
       "      <td>United Arab Emirates</td>\n",
       "      <td>Very High</td>\n",
       "      <td>AS</td>\n",
       "      <td>26.0</td>\n",
       "      <td>0.728</td>\n",
       "      <td>0.739</td>\n",
       "      <td>0.742</td>\n",
       "      <td>0.748</td>\n",
       "      <td>0.755</td>\n",
       "      <td>...</td>\n",
       "      <td>49.560000</td>\n",
       "      <td>49.680000</td>\n",
       "      <td>55.490000</td>\n",
       "      <td>59.760000</td>\n",
       "      <td>64.950000</td>\n",
       "      <td>75.610000</td>\n",
       "      <td>65.970000</td>\n",
       "      <td>68.950000</td>\n",
       "      <td>68.950000</td>\n",
       "      <td>68.950000</td>\n",
       "    </tr>\n",
       "    <tr>\n",
       "      <th>...</th>\n",
       "      <td>...</td>\n",
       "      <td>...</td>\n",
       "      <td>...</td>\n",
       "      <td>...</td>\n",
       "      <td>...</td>\n",
       "      <td>...</td>\n",
       "      <td>...</td>\n",
       "      <td>...</td>\n",
       "      <td>...</td>\n",
       "      <td>...</td>\n",
       "      <td>...</td>\n",
       "      <td>...</td>\n",
       "      <td>...</td>\n",
       "      <td>...</td>\n",
       "      <td>...</td>\n",
       "      <td>...</td>\n",
       "      <td>...</td>\n",
       "      <td>...</td>\n",
       "      <td>...</td>\n",
       "      <td>...</td>\n",
       "      <td>...</td>\n",
       "    </tr>\n",
       "    <tr>\n",
       "      <th>201</th>\n",
       "      <td>ZZG.ECA</td>\n",
       "      <td>Europe and Central Asia</td>\n",
       "      <td>NaN</td>\n",
       "      <td>NaN</td>\n",
       "      <td>NaN</td>\n",
       "      <td>0.664</td>\n",
       "      <td>0.661</td>\n",
       "      <td>0.654</td>\n",
       "      <td>0.652</td>\n",
       "      <td>0.647</td>\n",
       "      <td>...</td>\n",
       "      <td>13.107171</td>\n",
       "      <td>14.172082</td>\n",
       "      <td>14.189127</td>\n",
       "      <td>14.523162</td>\n",
       "      <td>13.791770</td>\n",
       "      <td>13.618078</td>\n",
       "      <td>13.914030</td>\n",
       "      <td>14.087293</td>\n",
       "      <td>14.091826</td>\n",
       "      <td>14.096719</td>\n",
       "    </tr>\n",
       "    <tr>\n",
       "      <th>202</th>\n",
       "      <td>ZZH.LAC</td>\n",
       "      <td>Latin America and the Caribbean</td>\n",
       "      <td>NaN</td>\n",
       "      <td>NaN</td>\n",
       "      <td>NaN</td>\n",
       "      <td>0.633</td>\n",
       "      <td>0.638</td>\n",
       "      <td>0.643</td>\n",
       "      <td>0.648</td>\n",
       "      <td>0.654</td>\n",
       "      <td>...</td>\n",
       "      <td>14.114108</td>\n",
       "      <td>14.493145</td>\n",
       "      <td>14.080904</td>\n",
       "      <td>14.146026</td>\n",
       "      <td>13.325144</td>\n",
       "      <td>13.604555</td>\n",
       "      <td>13.151315</td>\n",
       "      <td>13.296195</td>\n",
       "      <td>13.290914</td>\n",
       "      <td>13.284745</td>\n",
       "    </tr>\n",
       "    <tr>\n",
       "      <th>203</th>\n",
       "      <td>ZZI.SA</td>\n",
       "      <td>South Asia</td>\n",
       "      <td>NaN</td>\n",
       "      <td>NaN</td>\n",
       "      <td>NaN</td>\n",
       "      <td>0.442</td>\n",
       "      <td>0.447</td>\n",
       "      <td>0.453</td>\n",
       "      <td>0.457</td>\n",
       "      <td>0.462</td>\n",
       "      <td>...</td>\n",
       "      <td>4.699407</td>\n",
       "      <td>4.584935</td>\n",
       "      <td>4.486500</td>\n",
       "      <td>4.610546</td>\n",
       "      <td>4.624886</td>\n",
       "      <td>4.740263</td>\n",
       "      <td>5.000024</td>\n",
       "      <td>5.110230</td>\n",
       "      <td>5.106447</td>\n",
       "      <td>5.102134</td>\n",
       "    </tr>\n",
       "    <tr>\n",
       "      <th>204</th>\n",
       "      <td>ZZJ.SSA</td>\n",
       "      <td>Sub-Saharan Africa</td>\n",
       "      <td>NaN</td>\n",
       "      <td>NaN</td>\n",
       "      <td>NaN</td>\n",
       "      <td>0.407</td>\n",
       "      <td>0.410</td>\n",
       "      <td>0.410</td>\n",
       "      <td>0.411</td>\n",
       "      <td>0.413</td>\n",
       "      <td>...</td>\n",
       "      <td>3.437760</td>\n",
       "      <td>3.530479</td>\n",
       "      <td>3.491150</td>\n",
       "      <td>3.494860</td>\n",
       "      <td>3.415511</td>\n",
       "      <td>3.256156</td>\n",
       "      <td>3.145930</td>\n",
       "      <td>3.151076</td>\n",
       "      <td>3.146092</td>\n",
       "      <td>3.140740</td>\n",
       "    </tr>\n",
       "    <tr>\n",
       "      <th>205</th>\n",
       "      <td>ZZK.WORLD</td>\n",
       "      <td>World</td>\n",
       "      <td>NaN</td>\n",
       "      <td>NaN</td>\n",
       "      <td>NaN</td>\n",
       "      <td>0.601</td>\n",
       "      <td>0.604</td>\n",
       "      <td>0.607</td>\n",
       "      <td>0.610</td>\n",
       "      <td>0.614</td>\n",
       "      <td>...</td>\n",
       "      <td>12.186601</td>\n",
       "      <td>12.474065</td>\n",
       "      <td>12.520563</td>\n",
       "      <td>12.372667</td>\n",
       "      <td>12.277707</td>\n",
       "      <td>12.277878</td>\n",
       "      <td>12.220286</td>\n",
       "      <td>12.375236</td>\n",
       "      <td>12.325166</td>\n",
       "      <td>12.271920</td>\n",
       "    </tr>\n",
       "  </tbody>\n",
       "</table>\n",
       "<p>206 rows × 1008 columns</p>\n",
       "</div>"
      ],
      "text/plain": [
       "          iso3                          country    hdicode region  \\\n",
       "0          AFG                      Afghanistan        Low     SA   \n",
       "1          AGO                           Angola     Medium    SSA   \n",
       "2          ALB                          Albania       High    ECA   \n",
       "3          AND                          Andorra  Very High    NaN   \n",
       "4          ARE             United Arab Emirates  Very High     AS   \n",
       "..         ...                              ...        ...    ...   \n",
       "201    ZZG.ECA          Europe and Central Asia        NaN    NaN   \n",
       "202    ZZH.LAC  Latin America and the Caribbean        NaN    NaN   \n",
       "203     ZZI.SA                       South Asia        NaN    NaN   \n",
       "204    ZZJ.SSA               Sub-Saharan Africa        NaN    NaN   \n",
       "205  ZZK.WORLD                            World        NaN    NaN   \n",
       "\n",
       "     hdi_rank_2021  hdi_1990  hdi_1991  hdi_1992  hdi_1993  hdi_1994  ...  \\\n",
       "0            180.0     0.273     0.279     0.287     0.297     0.292  ...   \n",
       "1            148.0       NaN       NaN       NaN       NaN       NaN  ...   \n",
       "2             67.0     0.647     0.629     0.614     0.617     0.624  ...   \n",
       "3             40.0       NaN       NaN       NaN       NaN       NaN  ...   \n",
       "4             26.0     0.728     0.739     0.742     0.748     0.755  ...   \n",
       "..             ...       ...       ...       ...       ...       ...  ...   \n",
       "201            NaN     0.664     0.661     0.654     0.652     0.647  ...   \n",
       "202            NaN     0.633     0.638     0.643     0.648     0.654  ...   \n",
       "203            NaN     0.442     0.447     0.453     0.457     0.462  ...   \n",
       "204            NaN     0.407     0.410     0.410     0.411     0.413  ...   \n",
       "205            NaN     0.601     0.604     0.607     0.610     0.614  ...   \n",
       "\n",
       "       mf_2012    mf_2013    mf_2014    mf_2015    mf_2016    mf_2017  \\\n",
       "0     1.860000   1.880000   1.660000   1.620000   1.660000   1.410000   \n",
       "1     4.090000   4.530000   3.970000   3.590000   2.790000   2.640000   \n",
       "2    12.440000  11.490000  13.140000  12.610000  14.390000  14.460000   \n",
       "3          NaN        NaN        NaN        NaN        NaN        NaN   \n",
       "4    49.560000  49.680000  55.490000  59.760000  64.950000  75.610000   \n",
       "..         ...        ...        ...        ...        ...        ...   \n",
       "201  13.107171  14.172082  14.189127  14.523162  13.791770  13.618078   \n",
       "202  14.114108  14.493145  14.080904  14.146026  13.325144  13.604555   \n",
       "203   4.699407   4.584935   4.486500   4.610546   4.624886   4.740263   \n",
       "204   3.437760   3.530479   3.491150   3.494860   3.415511   3.256156   \n",
       "205  12.186601  12.474065  12.520563  12.372667  12.277707  12.277878   \n",
       "\n",
       "       mf_2018    mf_2019    mf_2020    mf_2021  \n",
       "0     1.320000   1.380000   1.380000   1.380000  \n",
       "1     2.280000   2.180000   2.180000   2.180000  \n",
       "2    12.850000  12.960000  12.960000  12.960000  \n",
       "3          NaN        NaN        NaN        NaN  \n",
       "4    65.970000  68.950000  68.950000  68.950000  \n",
       "..         ...        ...        ...        ...  \n",
       "201  13.914030  14.087293  14.091826  14.096719  \n",
       "202  13.151315  13.296195  13.290914  13.284745  \n",
       "203   5.000024   5.110230   5.106447   5.102134  \n",
       "204   3.145930   3.151076   3.146092   3.140740  \n",
       "205  12.220286  12.375236  12.325166  12.271920  \n",
       "\n",
       "[206 rows x 1008 columns]"
      ]
     },
     "execution_count": 8,
     "metadata": {},
     "output_type": "execute_result"
    }
   ],
   "source": [
    "df_un"
   ]
  },
  {
   "cell_type": "code",
   "execution_count": 9,
   "id": "b9e31a73",
   "metadata": {},
   "outputs": [
    {
     "data": {
      "text/plain": [
       "214"
      ]
     },
     "execution_count": 9,
     "metadata": {},
     "output_type": "execute_result"
    }
   ],
   "source": [
    "len(df)"
   ]
  },
  {
   "cell_type": "code",
   "execution_count": 10,
   "id": "d803f1a0",
   "metadata": {
    "scrolled": false
   },
   "outputs": [
    {
     "data": {
      "text/plain": [
       "41"
      ]
     },
     "execution_count": 10,
     "metadata": {},
     "output_type": "execute_result"
    }
   ],
   "source": [
    "len(df[df['Location']=='Location information not found'])"
   ]
  },
  {
   "cell_type": "code",
   "execution_count": 11,
   "id": "05a2334a",
   "metadata": {
    "scrolled": false
   },
   "outputs": [
    {
     "data": {
      "text/plain": [
       "0"
      ]
     },
     "execution_count": 11,
     "metadata": {},
     "output_type": "execute_result"
    }
   ],
   "source": [
    "len(df[df['Location'].isna()])"
   ]
  },
  {
   "cell_type": "code",
   "execution_count": 12,
   "id": "a81df931",
   "metadata": {},
   "outputs": [],
   "source": [
    "lst_index=[]\n",
    "for i in range(len(df)):\n",
    "    if df['Location'][i] in df_un['country'].to_list():\n",
    "        index=df_un[df_un['country']==df['Location'][i]].index.to_list()[0]\n",
    "        year='hdi_'+str(df['Year'][i])   \n",
    "        lst_index.append(df_un[year][index])\n",
    "    else:\n",
    "        lst_index.append('')"
   ]
  },
  {
   "cell_type": "code",
   "execution_count": 13,
   "id": "b85abead",
   "metadata": {},
   "outputs": [
    {
     "data": {
      "text/plain": [
       "41"
      ]
     },
     "execution_count": 13,
     "metadata": {},
     "output_type": "execute_result"
    }
   ],
   "source": [
    "#checking\n",
    "count=0\n",
    "for i in lst_index:\n",
    "    if i=='':\n",
    "        count+=1\n",
    "count"
   ]
  },
  {
   "cell_type": "code",
   "execution_count": 14,
   "id": "d8a94c30",
   "metadata": {},
   "outputs": [],
   "source": [
    "df['index']=pd.DataFrame(lst_index)"
   ]
  },
  {
   "cell_type": "code",
   "execution_count": 15,
   "id": "688f46f7",
   "metadata": {},
   "outputs": [],
   "source": [
    "df.to_csv('third_dataset.csv')"
   ]
  },
  {
   "cell_type": "markdown",
   "id": "ccf7e426",
   "metadata": {},
   "source": [
    "## 3. Calculating Correlation"
   ]
  },
  {
   "cell_type": "code",
   "execution_count": 16,
   "id": "d7966fc9",
   "metadata": {},
   "outputs": [],
   "source": [
    "import numpy as np"
   ]
  },
  {
   "cell_type": "code",
   "execution_count": 17,
   "id": "8f930c69",
   "metadata": {},
   "outputs": [],
   "source": [
    "df['index']=df['index'].replace('',np.nan)"
   ]
  },
  {
   "cell_type": "code",
   "execution_count": 18,
   "id": "c036ea46",
   "metadata": {},
   "outputs": [],
   "source": [
    "df['Citations']=df['Citations'].replace('missing',np.nan)"
   ]
  },
  {
   "cell_type": "code",
   "execution_count": 19,
   "id": "f4fa66ac",
   "metadata": {},
   "outputs": [],
   "source": [
    "df_temp=df[~df['index'].isnull()]"
   ]
  },
  {
   "cell_type": "code",
   "execution_count": 20,
   "id": "8101c79d",
   "metadata": {},
   "outputs": [],
   "source": [
    "df_cor=df_temp[~df_temp['Citations'].isnull()]"
   ]
  },
  {
   "cell_type": "code",
   "execution_count": null,
   "id": "e9c828ee",
   "metadata": {},
   "outputs": [],
   "source": []
  },
  {
   "cell_type": "code",
   "execution_count": 21,
   "id": "9253ded8",
   "metadata": {},
   "outputs": [
    {
     "ename": "ValueError",
     "evalue": "invalid literal for int() with base 10: 'References (43)'",
     "output_type": "error",
     "traceback": [
      "\u001b[0;31m---------------------------------------------------------------------------\u001b[0m",
      "\u001b[0;31mValueError\u001b[0m                                Traceback (most recent call last)",
      "\u001b[0;32m/var/folders/k3/p6m5f3w10js6r78gxfpjpyq80000gn/T/ipykernel_33373/4041460621.py\u001b[0m in \u001b[0;36m<module>\u001b[0;34m\u001b[0m\n\u001b[0;32m----> 1\u001b[0;31m \u001b[0mdf_cor\u001b[0m\u001b[0;34m[\u001b[0m\u001b[0;34m'Citations'\u001b[0m\u001b[0;34m]\u001b[0m\u001b[0;34m=\u001b[0m\u001b[0mdf_cor\u001b[0m\u001b[0;34m[\u001b[0m\u001b[0;34m'Citations'\u001b[0m\u001b[0;34m]\u001b[0m\u001b[0;34m.\u001b[0m\u001b[0mapply\u001b[0m\u001b[0;34m(\u001b[0m\u001b[0;32mlambda\u001b[0m \u001b[0mx\u001b[0m\u001b[0;34m:\u001b[0m\u001b[0mint\u001b[0m\u001b[0;34m(\u001b[0m\u001b[0mx\u001b[0m\u001b[0;34m)\u001b[0m\u001b[0;34m)\u001b[0m\u001b[0;34m\u001b[0m\u001b[0;34m\u001b[0m\u001b[0m\n\u001b[0m",
      "\u001b[0;32m~/opt/anaconda3/lib/python3.9/site-packages/pandas/core/series.py\u001b[0m in \u001b[0;36mapply\u001b[0;34m(self, func, convert_dtype, args, **kwargs)\u001b[0m\n\u001b[1;32m   4355\u001b[0m         \u001b[0mdtype\u001b[0m\u001b[0;34m:\u001b[0m \u001b[0mfloat64\u001b[0m\u001b[0;34m\u001b[0m\u001b[0;34m\u001b[0m\u001b[0m\n\u001b[1;32m   4356\u001b[0m         \"\"\"\n\u001b[0;32m-> 4357\u001b[0;31m         \u001b[0;32mreturn\u001b[0m \u001b[0mSeriesApply\u001b[0m\u001b[0;34m(\u001b[0m\u001b[0mself\u001b[0m\u001b[0;34m,\u001b[0m \u001b[0mfunc\u001b[0m\u001b[0;34m,\u001b[0m \u001b[0mconvert_dtype\u001b[0m\u001b[0;34m,\u001b[0m \u001b[0margs\u001b[0m\u001b[0;34m,\u001b[0m \u001b[0mkwargs\u001b[0m\u001b[0;34m)\u001b[0m\u001b[0;34m.\u001b[0m\u001b[0mapply\u001b[0m\u001b[0;34m(\u001b[0m\u001b[0;34m)\u001b[0m\u001b[0;34m\u001b[0m\u001b[0;34m\u001b[0m\u001b[0m\n\u001b[0m\u001b[1;32m   4358\u001b[0m \u001b[0;34m\u001b[0m\u001b[0m\n\u001b[1;32m   4359\u001b[0m     def _reduce(\n",
      "\u001b[0;32m~/opt/anaconda3/lib/python3.9/site-packages/pandas/core/apply.py\u001b[0m in \u001b[0;36mapply\u001b[0;34m(self)\u001b[0m\n\u001b[1;32m   1041\u001b[0m             \u001b[0;32mreturn\u001b[0m \u001b[0mself\u001b[0m\u001b[0;34m.\u001b[0m\u001b[0mapply_str\u001b[0m\u001b[0;34m(\u001b[0m\u001b[0;34m)\u001b[0m\u001b[0;34m\u001b[0m\u001b[0;34m\u001b[0m\u001b[0m\n\u001b[1;32m   1042\u001b[0m \u001b[0;34m\u001b[0m\u001b[0m\n\u001b[0;32m-> 1043\u001b[0;31m         \u001b[0;32mreturn\u001b[0m \u001b[0mself\u001b[0m\u001b[0;34m.\u001b[0m\u001b[0mapply_standard\u001b[0m\u001b[0;34m(\u001b[0m\u001b[0;34m)\u001b[0m\u001b[0;34m\u001b[0m\u001b[0;34m\u001b[0m\u001b[0m\n\u001b[0m\u001b[1;32m   1044\u001b[0m \u001b[0;34m\u001b[0m\u001b[0m\n\u001b[1;32m   1045\u001b[0m     \u001b[0;32mdef\u001b[0m \u001b[0magg\u001b[0m\u001b[0;34m(\u001b[0m\u001b[0mself\u001b[0m\u001b[0;34m)\u001b[0m\u001b[0;34m:\u001b[0m\u001b[0;34m\u001b[0m\u001b[0;34m\u001b[0m\u001b[0m\n",
      "\u001b[0;32m~/opt/anaconda3/lib/python3.9/site-packages/pandas/core/apply.py\u001b[0m in \u001b[0;36mapply_standard\u001b[0;34m(self)\u001b[0m\n\u001b[1;32m   1096\u001b[0m                 \u001b[0;31m# List[Union[Callable[..., Any], str]]]]]\"; expected\u001b[0m\u001b[0;34m\u001b[0m\u001b[0;34m\u001b[0m\u001b[0m\n\u001b[1;32m   1097\u001b[0m                 \u001b[0;31m# \"Callable[[Any], Any]\"\u001b[0m\u001b[0;34m\u001b[0m\u001b[0;34m\u001b[0m\u001b[0m\n\u001b[0;32m-> 1098\u001b[0;31m                 mapped = lib.map_infer(\n\u001b[0m\u001b[1;32m   1099\u001b[0m                     \u001b[0mvalues\u001b[0m\u001b[0;34m,\u001b[0m\u001b[0;34m\u001b[0m\u001b[0;34m\u001b[0m\u001b[0m\n\u001b[1;32m   1100\u001b[0m                     \u001b[0mf\u001b[0m\u001b[0;34m,\u001b[0m  \u001b[0;31m# type: ignore[arg-type]\u001b[0m\u001b[0;34m\u001b[0m\u001b[0;34m\u001b[0m\u001b[0m\n",
      "\u001b[0;32m~/opt/anaconda3/lib/python3.9/site-packages/pandas/_libs/lib.pyx\u001b[0m in \u001b[0;36mpandas._libs.lib.map_infer\u001b[0;34m()\u001b[0m\n",
      "\u001b[0;32m/var/folders/k3/p6m5f3w10js6r78gxfpjpyq80000gn/T/ipykernel_33373/4041460621.py\u001b[0m in \u001b[0;36m<lambda>\u001b[0;34m(x)\u001b[0m\n\u001b[0;32m----> 1\u001b[0;31m \u001b[0mdf_cor\u001b[0m\u001b[0;34m[\u001b[0m\u001b[0;34m'Citations'\u001b[0m\u001b[0;34m]\u001b[0m\u001b[0;34m=\u001b[0m\u001b[0mdf_cor\u001b[0m\u001b[0;34m[\u001b[0m\u001b[0;34m'Citations'\u001b[0m\u001b[0;34m]\u001b[0m\u001b[0;34m.\u001b[0m\u001b[0mapply\u001b[0m\u001b[0;34m(\u001b[0m\u001b[0;32mlambda\u001b[0m \u001b[0mx\u001b[0m\u001b[0;34m:\u001b[0m\u001b[0mint\u001b[0m\u001b[0;34m(\u001b[0m\u001b[0mx\u001b[0m\u001b[0;34m)\u001b[0m\u001b[0;34m)\u001b[0m\u001b[0;34m\u001b[0m\u001b[0;34m\u001b[0m\u001b[0m\n\u001b[0m",
      "\u001b[0;31mValueError\u001b[0m: invalid literal for int() with base 10: 'References (43)'"
     ]
    }
   ],
   "source": [
    "df_cor['Citations']=df_cor['Citations'].apply(lambda x:int(x))"
   ]
  },
  {
   "cell_type": "code",
   "execution_count": null,
   "id": "bec13751",
   "metadata": {
    "scrolled": false
   },
   "outputs": [],
   "source": [
    "len(df_cor)"
   ]
  },
  {
   "cell_type": "code",
   "execution_count": null,
   "id": "361e0edb",
   "metadata": {},
   "outputs": [],
   "source": [
    "c = np.corrcoef(df_cor['Citations'],df_cor['index'])\n",
    "c"
   ]
  },
  {
   "cell_type": "code",
   "execution_count": null,
   "id": "a68ccec9",
   "metadata": {},
   "outputs": [],
   "source": [
    "print('Correlations between citation number and HDI is: ',c[0][1])"
   ]
  },
  {
   "cell_type": "code",
   "execution_count": null,
   "id": "91242cb7",
   "metadata": {},
   "outputs": [],
   "source": []
  },
  {
   "cell_type": "code",
   "execution_count": null,
   "id": "c9543e91",
   "metadata": {},
   "outputs": [],
   "source": []
  }
 ],
 "metadata": {
  "kernelspec": {
   "display_name": "Python 3 (ipykernel)",
   "language": "python",
   "name": "python3"
  },
  "language_info": {
   "codemirror_mode": {
    "name": "ipython",
    "version": 3
   },
   "file_extension": ".py",
   "mimetype": "text/x-python",
   "name": "python",
   "nbconvert_exporter": "python",
   "pygments_lexer": "ipython3",
   "version": "3.9.7"
  }
 },
 "nbformat": 4,
 "nbformat_minor": 5
}
