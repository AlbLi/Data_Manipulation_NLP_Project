{
 "cells": [
  {
   "cell_type": "markdown",
   "metadata": {},
   "source": [
    "FIXME: This file generates a single result.txt file for the model to use. This file has all the text from the downloaded papers which need to be in \"downloaded_research_papers\" folder."
   ]
  },
  {
   "cell_type": "code",
   "execution_count": 1,
   "metadata": {},
   "outputs": [],
   "source": [
    "from tika import parser\n",
    "import os\n",
    "from datetime import datetime"
   ]
  },
  {
   "cell_type": "markdown",
   "metadata": {},
   "source": [
    "# Text Extraction From Paper"
   ]
  },
  {
   "cell_type": "code",
   "execution_count": 2,
   "metadata": {},
   "outputs": [],
   "source": [
    "input_data_path = \"downloaded_research_papers\"\n",
    "input_data_file = 'result.txt'\n",
    "def retrivePaperInput(filepath = '', output_filename='result.txt'):\n",
    "    try:\n",
    "        startTime = datetime.now()\n",
    "        final_text = ''\n",
    "        research_papers = os.listdir(filepath)\n",
    "        for paper in research_papers:\n",
    "            parsed = parser.from_file(f'{filepath}/{paper}')\n",
    "            final_text += parsed[\"content\"]\n",
    "        with open(output_filename, 'wb') as f:\n",
    "            print(f\"Writing file to \\'{output_filename}\\'\")\n",
    "            f.write(final_text.encode(encoding='UTF-8'))\n",
    "            print(\"Finished\")\n",
    "        endTime = datetime.now()\n",
    "        print(f'Time taken = {endTime - startTime}')\n",
    "    except Exception as error:\n",
    "        print(f'Error in retriving files.\\nError information: {error}')"
   ]
  },
  {
   "cell_type": "code",
   "execution_count": 3,
   "metadata": {},
   "outputs": [
    {
     "name": "stdout",
     "output_type": "stream",
     "text": [
      "Writing file to 'result2.txt'\n",
      "Finished\n",
      "Time taken = 0:04:42.154765\n"
     ]
    }
   ],
   "source": [
    "retrivePaperInput(input_data_path, input_data_file)"
   ]
  }
 ],
 "metadata": {
  "kernelspec": {
   "display_name": "env",
   "language": "python",
   "name": "python3"
  },
  "language_info": {
   "codemirror_mode": {
    "name": "ipython",
    "version": 3
   },
   "file_extension": ".py",
   "mimetype": "text/x-python",
   "name": "python",
   "nbconvert_exporter": "python",
   "pygments_lexer": "ipython3",
   "version": "3.10.11"
  },
  "orig_nbformat": 4
 },
 "nbformat": 4,
 "nbformat_minor": 2
}
