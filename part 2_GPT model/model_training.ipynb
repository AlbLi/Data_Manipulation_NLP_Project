{
  "cells": [
    {
      "cell_type": "markdown",
      "metadata": {
        "id": "eq-R7Vejqa7h"
      },
      "source": [
        "FIXME: This file will train the model using a single input of \"result.txt\" file which has all the papers stored as text in the file. The result is a single csv that has the fake generated text as rows. You can change the generation values below so that it can generate more files. The run_name defines where to store the trained model weights."
      ]
    },
    {
      "cell_type": "markdown",
      "metadata": {
        "id": "lg3ieFZeqa7i"
      },
      "source": [
        "# Generating fake content from GPT 2 Model"
      ]
    },
    {
      "cell_type": "code",
      "source": [
        "from google.colab import drive\n",
        "drive.mount('/content/drive')"
      ],
      "metadata": {
        "colab": {
          "base_uri": "https://localhost:8080/"
        },
        "id": "7KDFqD3nrbb3",
        "outputId": "01c7e819-4e7b-4e27-c8c3-e7a802a30adc"
      },
      "execution_count": 1,
      "outputs": [
        {
          "output_type": "stream",
          "name": "stdout",
          "text": [
            "Mounted at /content/drive\n"
          ]
        }
      ]
    },
    {
      "cell_type": "code",
      "source": [
        "!pip install gpt_2_simple"
      ],
      "metadata": {
        "colab": {
          "base_uri": "https://localhost:8080/"
        },
        "id": "DJrGZCQhqsaG",
        "outputId": "63c8bc62-1cd4-4e57-f720-aef80f0e2f67"
      },
      "execution_count": 2,
      "outputs": [
        {
          "output_type": "stream",
          "name": "stdout",
          "text": [
            "Collecting gpt_2_simple\n",
            "  Downloading gpt_2_simple-0.8.1.tar.gz (26 kB)\n",
            "  Preparing metadata (setup.py) ... \u001b[?25l\u001b[?25hdone\n",
            "Requirement already satisfied: tensorflow>=2.5.1 in /usr/local/lib/python3.10/dist-packages (from gpt_2_simple) (2.12.0)\n",
            "Requirement already satisfied: regex in /usr/local/lib/python3.10/dist-packages (from gpt_2_simple) (2022.10.31)\n",
            "Requirement already satisfied: requests in /usr/local/lib/python3.10/dist-packages (from gpt_2_simple) (2.27.1)\n",
            "Requirement already satisfied: tqdm in /usr/local/lib/python3.10/dist-packages (from gpt_2_simple) (4.65.0)\n",
            "Requirement already satisfied: numpy in /usr/local/lib/python3.10/dist-packages (from gpt_2_simple) (1.22.4)\n",
            "Collecting toposort (from gpt_2_simple)\n",
            "  Downloading toposort-1.10-py3-none-any.whl (8.5 kB)\n",
            "Requirement already satisfied: absl-py>=1.0.0 in /usr/local/lib/python3.10/dist-packages (from tensorflow>=2.5.1->gpt_2_simple) (1.4.0)\n",
            "Requirement already satisfied: astunparse>=1.6.0 in /usr/local/lib/python3.10/dist-packages (from tensorflow>=2.5.1->gpt_2_simple) (1.6.3)\n",
            "Requirement already satisfied: flatbuffers>=2.0 in /usr/local/lib/python3.10/dist-packages (from tensorflow>=2.5.1->gpt_2_simple) (23.5.26)\n",
            "Requirement already satisfied: gast<=0.4.0,>=0.2.1 in /usr/local/lib/python3.10/dist-packages (from tensorflow>=2.5.1->gpt_2_simple) (0.4.0)\n",
            "Requirement already satisfied: google-pasta>=0.1.1 in /usr/local/lib/python3.10/dist-packages (from tensorflow>=2.5.1->gpt_2_simple) (0.2.0)\n",
            "Requirement already satisfied: grpcio<2.0,>=1.24.3 in /usr/local/lib/python3.10/dist-packages (from tensorflow>=2.5.1->gpt_2_simple) (1.56.2)\n",
            "Requirement already satisfied: h5py>=2.9.0 in /usr/local/lib/python3.10/dist-packages (from tensorflow>=2.5.1->gpt_2_simple) (3.8.0)\n",
            "Requirement already satisfied: jax>=0.3.15 in /usr/local/lib/python3.10/dist-packages (from tensorflow>=2.5.1->gpt_2_simple) (0.4.13)\n",
            "Requirement already satisfied: keras<2.13,>=2.12.0 in /usr/local/lib/python3.10/dist-packages (from tensorflow>=2.5.1->gpt_2_simple) (2.12.0)\n",
            "Requirement already satisfied: libclang>=13.0.0 in /usr/local/lib/python3.10/dist-packages (from tensorflow>=2.5.1->gpt_2_simple) (16.0.6)\n",
            "Requirement already satisfied: opt-einsum>=2.3.2 in /usr/local/lib/python3.10/dist-packages (from tensorflow>=2.5.1->gpt_2_simple) (3.3.0)\n",
            "Requirement already satisfied: packaging in /usr/local/lib/python3.10/dist-packages (from tensorflow>=2.5.1->gpt_2_simple) (23.1)\n",
            "Requirement already satisfied: protobuf!=4.21.0,!=4.21.1,!=4.21.2,!=4.21.3,!=4.21.4,!=4.21.5,<5.0.0dev,>=3.20.3 in /usr/local/lib/python3.10/dist-packages (from tensorflow>=2.5.1->gpt_2_simple) (3.20.3)\n",
            "Requirement already satisfied: setuptools in /usr/local/lib/python3.10/dist-packages (from tensorflow>=2.5.1->gpt_2_simple) (67.7.2)\n",
            "Requirement already satisfied: six>=1.12.0 in /usr/local/lib/python3.10/dist-packages (from tensorflow>=2.5.1->gpt_2_simple) (1.16.0)\n",
            "Requirement already satisfied: tensorboard<2.13,>=2.12 in /usr/local/lib/python3.10/dist-packages (from tensorflow>=2.5.1->gpt_2_simple) (2.12.3)\n",
            "Requirement already satisfied: tensorflow-estimator<2.13,>=2.12.0 in /usr/local/lib/python3.10/dist-packages (from tensorflow>=2.5.1->gpt_2_simple) (2.12.0)\n",
            "Requirement already satisfied: termcolor>=1.1.0 in /usr/local/lib/python3.10/dist-packages (from tensorflow>=2.5.1->gpt_2_simple) (2.3.0)\n",
            "Requirement already satisfied: typing-extensions>=3.6.6 in /usr/local/lib/python3.10/dist-packages (from tensorflow>=2.5.1->gpt_2_simple) (4.7.1)\n",
            "Requirement already satisfied: wrapt<1.15,>=1.11.0 in /usr/local/lib/python3.10/dist-packages (from tensorflow>=2.5.1->gpt_2_simple) (1.14.1)\n",
            "Requirement already satisfied: tensorflow-io-gcs-filesystem>=0.23.1 in /usr/local/lib/python3.10/dist-packages (from tensorflow>=2.5.1->gpt_2_simple) (0.32.0)\n",
            "Requirement already satisfied: urllib3<1.27,>=1.21.1 in /usr/local/lib/python3.10/dist-packages (from requests->gpt_2_simple) (1.26.16)\n",
            "Requirement already satisfied: certifi>=2017.4.17 in /usr/local/lib/python3.10/dist-packages (from requests->gpt_2_simple) (2023.7.22)\n",
            "Requirement already satisfied: charset-normalizer~=2.0.0 in /usr/local/lib/python3.10/dist-packages (from requests->gpt_2_simple) (2.0.12)\n",
            "Requirement already satisfied: idna<4,>=2.5 in /usr/local/lib/python3.10/dist-packages (from requests->gpt_2_simple) (3.4)\n",
            "Requirement already satisfied: wheel<1.0,>=0.23.0 in /usr/local/lib/python3.10/dist-packages (from astunparse>=1.6.0->tensorflow>=2.5.1->gpt_2_simple) (0.41.0)\n",
            "Requirement already satisfied: ml-dtypes>=0.1.0 in /usr/local/lib/python3.10/dist-packages (from jax>=0.3.15->tensorflow>=2.5.1->gpt_2_simple) (0.2.0)\n",
            "Requirement already satisfied: scipy>=1.7 in /usr/local/lib/python3.10/dist-packages (from jax>=0.3.15->tensorflow>=2.5.1->gpt_2_simple) (1.10.1)\n",
            "Requirement already satisfied: google-auth<3,>=1.6.3 in /usr/local/lib/python3.10/dist-packages (from tensorboard<2.13,>=2.12->tensorflow>=2.5.1->gpt_2_simple) (2.17.3)\n",
            "Requirement already satisfied: google-auth-oauthlib<1.1,>=0.5 in /usr/local/lib/python3.10/dist-packages (from tensorboard<2.13,>=2.12->tensorflow>=2.5.1->gpt_2_simple) (1.0.0)\n",
            "Requirement already satisfied: markdown>=2.6.8 in /usr/local/lib/python3.10/dist-packages (from tensorboard<2.13,>=2.12->tensorflow>=2.5.1->gpt_2_simple) (3.4.4)\n",
            "Requirement already satisfied: tensorboard-data-server<0.8.0,>=0.7.0 in /usr/local/lib/python3.10/dist-packages (from tensorboard<2.13,>=2.12->tensorflow>=2.5.1->gpt_2_simple) (0.7.1)\n",
            "Requirement already satisfied: werkzeug>=1.0.1 in /usr/local/lib/python3.10/dist-packages (from tensorboard<2.13,>=2.12->tensorflow>=2.5.1->gpt_2_simple) (2.3.6)\n",
            "Requirement already satisfied: cachetools<6.0,>=2.0.0 in /usr/local/lib/python3.10/dist-packages (from google-auth<3,>=1.6.3->tensorboard<2.13,>=2.12->tensorflow>=2.5.1->gpt_2_simple) (5.3.1)\n",
            "Requirement already satisfied: pyasn1-modules>=0.2.1 in /usr/local/lib/python3.10/dist-packages (from google-auth<3,>=1.6.3->tensorboard<2.13,>=2.12->tensorflow>=2.5.1->gpt_2_simple) (0.3.0)\n",
            "Requirement already satisfied: rsa<5,>=3.1.4 in /usr/local/lib/python3.10/dist-packages (from google-auth<3,>=1.6.3->tensorboard<2.13,>=2.12->tensorflow>=2.5.1->gpt_2_simple) (4.9)\n",
            "Requirement already satisfied: requests-oauthlib>=0.7.0 in /usr/local/lib/python3.10/dist-packages (from google-auth-oauthlib<1.1,>=0.5->tensorboard<2.13,>=2.12->tensorflow>=2.5.1->gpt_2_simple) (1.3.1)\n",
            "Requirement already satisfied: MarkupSafe>=2.1.1 in /usr/local/lib/python3.10/dist-packages (from werkzeug>=1.0.1->tensorboard<2.13,>=2.12->tensorflow>=2.5.1->gpt_2_simple) (2.1.3)\n",
            "Requirement already satisfied: pyasn1<0.6.0,>=0.4.6 in /usr/local/lib/python3.10/dist-packages (from pyasn1-modules>=0.2.1->google-auth<3,>=1.6.3->tensorboard<2.13,>=2.12->tensorflow>=2.5.1->gpt_2_simple) (0.5.0)\n",
            "Requirement already satisfied: oauthlib>=3.0.0 in /usr/local/lib/python3.10/dist-packages (from requests-oauthlib>=0.7.0->google-auth-oauthlib<1.1,>=0.5->tensorboard<2.13,>=2.12->tensorflow>=2.5.1->gpt_2_simple) (3.2.2)\n",
            "Building wheels for collected packages: gpt_2_simple\n",
            "  Building wheel for gpt_2_simple (setup.py) ... \u001b[?25l\u001b[?25hdone\n",
            "  Created wheel for gpt_2_simple: filename=gpt_2_simple-0.8.1-py3-none-any.whl size=24557 sha256=0f8414fac1ba423319d6b161236d83b5f9e3b5880d9212a732794f7c2328c248\n",
            "  Stored in directory: /root/.cache/pip/wheels/df/6a/fe/10d3223f78d1ac3e4c83bb4c5e2d28dfb1789c2fb4cc7ea8d0\n",
            "Successfully built gpt_2_simple\n",
            "Installing collected packages: toposort, gpt_2_simple\n",
            "Successfully installed gpt_2_simple-0.8.1 toposort-1.10\n"
          ]
        }
      ]
    },
    {
      "cell_type": "code",
      "execution_count": 3,
      "metadata": {
        "execution": {
          "iopub.execute_input": "2023-08-03T09:07:17.236722Z",
          "iopub.status.busy": "2023-08-03T09:07:17.236374Z",
          "iopub.status.idle": "2023-08-03T09:07:25.211461Z",
          "shell.execute_reply": "2023-08-03T09:07:25.209819Z",
          "shell.execute_reply.started": "2023-08-03T09:07:17.236687Z"
        },
        "trusted": true,
        "id": "y_J6Fmvdqa7i"
      },
      "outputs": [],
      "source": [
        "import os\n",
        "from datetime import datetime\n",
        "import gpt_2_simple as gpt2\n",
        "import pandas as pd"
      ]
    },
    {
      "cell_type": "code",
      "execution_count": 4,
      "metadata": {
        "execution": {
          "iopub.execute_input": "2023-08-03T09:07:25.237300Z",
          "iopub.status.busy": "2023-08-03T09:07:25.236898Z",
          "iopub.status.idle": "2023-08-03T09:07:43.919775Z",
          "shell.execute_reply": "2023-08-03T09:07:43.918746Z",
          "shell.execute_reply.started": "2023-08-03T09:07:25.237266Z"
        },
        "trusted": true,
        "id": "qkaZeTq4qa7k",
        "colab": {
          "base_uri": "https://localhost:8080/"
        },
        "outputId": "30c16367-37ef-46d0-f26b-b70c3255d57d"
      },
      "outputs": [
        {
          "output_type": "stream",
          "name": "stdout",
          "text": [
            "Downloading 124M model...\n"
          ]
        },
        {
          "output_type": "stream",
          "name": "stderr",
          "text": [
            "Fetching checkpoint: 1.05Mit [00:00, 5.16Git/s]                                                     \n",
            "Fetching encoder.json: 1.05Mit [00:01, 581kit/s]\n",
            "Fetching hparams.json: 1.05Mit [00:00, 3.30Git/s]                                                   \n",
            "Fetching model.ckpt.data-00000-of-00001: 498Mit [00:52, 9.46Mit/s]\n",
            "Fetching model.ckpt.index: 1.05Mit [00:00, 1.19Git/s]                                               \n",
            "Fetching model.ckpt.meta: 1.05Mit [00:01, 872kit/s]\n",
            "Fetching vocab.bpe: 1.05Mit [00:01, 747kit/s]\n"
          ]
        }
      ],
      "source": [
        "run_name = 'run1'\n",
        "input_data_file = '/content/drive/MyDrive/final_trial.txt'\n",
        "model_name = \"124M\"\n",
        "exists = True\n",
        "\n",
        "if not os.path.isdir(os.path.join(\"models\", model_name)):\n",
        "    exists = False\n",
        "\n",
        "if not exists:\n",
        "    print(f\"Downloading {model_name} model...\")\n",
        "    gpt2.download_gpt2(model_name=model_name)\n",
        "# Start Session\n",
        "    sess = gpt2.start_tf_sess()\n",
        "# Load old one\n",
        "if exists:\n",
        "    gpt2.load_gpt2(sess, reuse=True, run_name=run_name)"
      ]
    },
    {
      "cell_type": "code",
      "execution_count": 5,
      "metadata": {
        "execution": {
          "iopub.execute_input": "2023-08-03T09:07:25.213701Z",
          "iopub.status.busy": "2023-08-03T09:07:25.212978Z",
          "iopub.status.idle": "2023-08-03T09:07:25.220525Z",
          "shell.execute_reply": "2023-08-03T09:07:25.217893Z",
          "shell.execute_reply.started": "2023-08-03T09:07:25.213671Z"
        },
        "trusted": true,
        "id": "sQrehSBrqa7j"
      },
      "outputs": [],
      "source": [
        "def generateContent(session):\n",
        "    return gpt2.generate(session, return_as_list=True)\n",
        "\n",
        "def trainModel(session, file_path, model):\n",
        "    gpt2.finetune(session,\n",
        "              file_path,\n",
        "              model_name=model,\n",
        "              steps=100)"
      ]
    },
    {
      "cell_type": "code",
      "execution_count": 6,
      "metadata": {
        "execution": {
          "iopub.execute_input": "2023-08-03T09:07:25.224033Z",
          "iopub.status.busy": "2023-08-03T09:07:25.223150Z",
          "iopub.status.idle": "2023-08-03T09:07:25.235382Z",
          "shell.execute_reply": "2023-08-03T09:07:25.234413Z",
          "shell.execute_reply.started": "2023-08-03T09:07:25.223997Z"
        },
        "trusted": true,
        "id": "LFbS998rqa7k"
      },
      "outputs": [],
      "source": [
        "# Incase we need\n",
        "def handleLargeText(file_path):\n",
        "    gpt2.encode_dataset(file_path)"
      ]
    },
    {
      "cell_type": "code",
      "execution_count": 7,
      "metadata": {
        "execution": {
          "iopub.execute_input": "2023-08-03T09:07:43.921413Z",
          "iopub.status.busy": "2023-08-03T09:07:43.921055Z",
          "iopub.status.idle": "2023-08-03T09:10:30.406294Z",
          "shell.execute_reply": "2023-08-03T09:10:30.404823Z",
          "shell.execute_reply.started": "2023-08-03T09:07:43.921380Z"
        },
        "trusted": true,
        "id": "4HWUHmxmqa7k",
        "colab": {
          "base_uri": "https://localhost:8080/"
        },
        "outputId": "4e9e3448-8f8f-47b4-edd5-430970c19356"
      },
      "outputs": [
        {
          "output_type": "stream",
          "name": "stdout",
          "text": [
            "Loading checkpoint models/124M/model.ckpt\n",
            "Loading dataset...\n"
          ]
        },
        {
          "output_type": "stream",
          "name": "stderr",
          "text": [
            "100%|██████████| 1/1 [00:10<00:00, 10.85s/it]\n"
          ]
        },
        {
          "output_type": "stream",
          "name": "stdout",
          "text": [
            "dataset has 2592429 tokens\n",
            "Training...\n",
            "[1 | 8.44] loss=3.12 avg=3.12\n",
            "[2 | 10.51] loss=3.24 avg=3.18\n",
            "[3 | 12.59] loss=2.97 avg=3.11\n",
            "[4 | 14.67] loss=3.08 avg=3.10\n",
            "[5 | 16.76] loss=3.19 avg=3.12\n",
            "[6 | 18.85] loss=3.22 avg=3.14\n",
            "[7 | 20.94] loss=2.93 avg=3.11\n",
            "[8 | 23.03] loss=3.11 avg=3.11\n",
            "[9 | 25.13] loss=2.87 avg=3.08\n",
            "[10 | 27.24] loss=3.03 avg=3.07\n",
            "[11 | 29.35] loss=3.13 avg=3.08\n",
            "[12 | 31.46] loss=2.61 avg=3.04\n",
            "[13 | 33.58] loss=3.06 avg=3.04\n",
            "[14 | 35.69] loss=3.15 avg=3.05\n",
            "[15 | 37.80] loss=2.83 avg=3.03\n",
            "[16 | 39.92] loss=2.71 avg=3.01\n",
            "[17 | 42.04] loss=3.01 avg=3.01\n",
            "[18 | 44.17] loss=2.87 avg=3.00\n",
            "[19 | 46.29] loss=3.20 avg=3.01\n",
            "[20 | 48.42] loss=3.23 avg=3.03\n",
            "[21 | 50.56] loss=3.07 avg=3.03\n",
            "[22 | 52.69] loss=2.99 avg=3.03\n",
            "[23 | 54.83] loss=2.97 avg=3.02\n",
            "[24 | 56.97] loss=2.87 avg=3.02\n",
            "[25 | 59.12] loss=3.06 avg=3.02\n",
            "[26 | 61.27] loss=2.92 avg=3.01\n",
            "[27 | 63.42] loss=2.88 avg=3.01\n",
            "[28 | 65.57] loss=2.71 avg=3.00\n",
            "[29 | 67.72] loss=3.12 avg=3.00\n",
            "[30 | 69.88] loss=2.90 avg=3.00\n",
            "[31 | 72.04] loss=2.86 avg=2.99\n",
            "[32 | 74.21] loss=2.81 avg=2.99\n",
            "[33 | 76.38] loss=2.86 avg=2.98\n",
            "[34 | 78.55] loss=2.67 avg=2.97\n",
            "[35 | 80.72] loss=2.88 avg=2.97\n",
            "[36 | 82.89] loss=2.71 avg=2.96\n",
            "[37 | 85.07] loss=2.78 avg=2.95\n",
            "[38 | 87.25] loss=2.89 avg=2.95\n",
            "[39 | 89.44] loss=2.96 avg=2.95\n",
            "[40 | 91.63] loss=2.87 avg=2.95\n",
            "[41 | 93.82] loss=2.87 avg=2.95\n",
            "[42 | 96.01] loss=2.56 avg=2.94\n",
            "[43 | 98.21] loss=2.73 avg=2.93\n",
            "[44 | 100.41] loss=2.76 avg=2.93\n",
            "[45 | 102.61] loss=3.00 avg=2.93\n",
            "[46 | 104.81] loss=2.69 avg=2.92\n",
            "[47 | 107.02] loss=2.98 avg=2.92\n",
            "[48 | 109.23] loss=2.86 avg=2.92\n",
            "[49 | 111.43] loss=2.76 avg=2.92\n",
            "[50 | 113.65] loss=2.83 avg=2.91\n",
            "[51 | 115.86] loss=2.43 avg=2.90\n",
            "[52 | 118.08] loss=2.75 avg=2.90\n",
            "[53 | 120.29] loss=2.80 avg=2.90\n",
            "[54 | 122.51] loss=2.81 avg=2.89\n",
            "[55 | 124.74] loss=2.75 avg=2.89\n",
            "[56 | 126.97] loss=2.81 avg=2.89\n",
            "[57 | 129.20] loss=2.86 avg=2.89\n",
            "[58 | 131.43] loss=2.79 avg=2.89\n",
            "[59 | 133.66] loss=2.72 avg=2.88\n",
            "[60 | 135.89] loss=2.88 avg=2.88\n",
            "[61 | 138.13] loss=2.84 avg=2.88\n",
            "[62 | 140.36] loss=2.64 avg=2.88\n",
            "[63 | 142.61] loss=2.88 avg=2.88\n",
            "[64 | 144.86] loss=2.59 avg=2.87\n",
            "[65 | 147.11] loss=2.94 avg=2.87\n",
            "[66 | 149.36] loss=2.90 avg=2.87\n",
            "[67 | 151.61] loss=3.02 avg=2.88\n",
            "[68 | 153.85] loss=2.78 avg=2.87\n",
            "[69 | 156.10] loss=2.89 avg=2.87\n",
            "[70 | 158.35] loss=2.64 avg=2.87\n",
            "[71 | 160.61] loss=2.99 avg=2.87\n",
            "[72 | 162.87] loss=2.59 avg=2.87\n",
            "[73 | 165.13] loss=2.93 avg=2.87\n",
            "[74 | 167.40] loss=2.63 avg=2.86\n",
            "[75 | 169.67] loss=2.69 avg=2.86\n",
            "[76 | 171.94] loss=3.10 avg=2.86\n",
            "[77 | 174.21] loss=2.45 avg=2.86\n",
            "[78 | 176.49] loss=2.76 avg=2.85\n",
            "[79 | 178.77] loss=2.85 avg=2.85\n",
            "[80 | 181.04] loss=3.20 avg=2.86\n",
            "[81 | 183.32] loss=2.75 avg=2.86\n",
            "[82 | 185.61] loss=2.68 avg=2.86\n",
            "[83 | 187.89] loss=2.83 avg=2.85\n",
            "[84 | 190.18] loss=2.84 avg=2.85\n",
            "[85 | 192.46] loss=3.14 avg=2.86\n",
            "[86 | 194.75] loss=2.91 avg=2.86\n",
            "[87 | 197.05] loss=2.90 avg=2.86\n",
            "[88 | 199.35] loss=2.53 avg=2.86\n",
            "[89 | 201.65] loss=2.77 avg=2.85\n",
            "[90 | 203.94] loss=2.75 avg=2.85\n",
            "[91 | 206.25] loss=2.64 avg=2.85\n",
            "[92 | 208.55] loss=2.83 avg=2.85\n",
            "[93 | 210.85] loss=2.66 avg=2.85\n",
            "[94 | 213.15] loss=2.73 avg=2.84\n",
            "[95 | 215.45] loss=2.43 avg=2.84\n",
            "[96 | 217.75] loss=2.72 avg=2.83\n",
            "[97 | 220.06] loss=2.65 avg=2.83\n",
            "[98 | 222.36] loss=2.91 avg=2.83\n",
            "[99 | 224.66] loss=2.92 avg=2.83\n",
            "[100 | 226.96] loss=3.05 avg=2.84\n",
            "Saving checkpoint/run1/model-100\n"
          ]
        }
      ],
      "source": [
        "trainModel(sess, input_data_file, model_name)"
      ]
    },
    {
      "cell_type": "code",
      "source": [
        "columns = ['Content']\n",
        "contentDF = pd.DataFrame(columns = columns)"
      ],
      "metadata": {
        "id": "9IwQO7WnscEL"
      },
      "execution_count": 8,
      "outputs": []
    },
    {
      "cell_type": "code",
      "source": [
        "for i in range(100):\n",
        "  content = generateContent(sess)[0]\n",
        "  new_row = {'Content': content}\n",
        "  contentDF = contentDF.append(new_row, ignore_index=True)"
      ],
      "metadata": {
        "colab": {
          "base_uri": "https://localhost:8080/"
        },
        "id": "l6kA8mS5skb1",
        "outputId": "bc25ea3d-aefb-45ef-e3ca-d68aefefb4fc"
      },
      "execution_count": 9,
      "outputs": [
        {
          "output_type": "stream",
          "name": "stderr",
          "text": [
            "<ipython-input-9-51518241e325>:4: FutureWarning: The frame.append method is deprecated and will be removed from pandas in a future version. Use pandas.concat instead.\n",
            "  contentDF = contentDF.append(new_row, ignore_index=True)\n",
            "<ipython-input-9-51518241e325>:4: FutureWarning: The frame.append method is deprecated and will be removed from pandas in a future version. Use pandas.concat instead.\n",
            "  contentDF = contentDF.append(new_row, ignore_index=True)\n",
            "<ipython-input-9-51518241e325>:4: FutureWarning: The frame.append method is deprecated and will be removed from pandas in a future version. Use pandas.concat instead.\n",
            "  contentDF = contentDF.append(new_row, ignore_index=True)\n",
            "<ipython-input-9-51518241e325>:4: FutureWarning: The frame.append method is deprecated and will be removed from pandas in a future version. Use pandas.concat instead.\n",
            "  contentDF = contentDF.append(new_row, ignore_index=True)\n",
            "<ipython-input-9-51518241e325>:4: FutureWarning: The frame.append method is deprecated and will be removed from pandas in a future version. Use pandas.concat instead.\n",
            "  contentDF = contentDF.append(new_row, ignore_index=True)\n",
            "<ipython-input-9-51518241e325>:4: FutureWarning: The frame.append method is deprecated and will be removed from pandas in a future version. Use pandas.concat instead.\n",
            "  contentDF = contentDF.append(new_row, ignore_index=True)\n",
            "<ipython-input-9-51518241e325>:4: FutureWarning: The frame.append method is deprecated and will be removed from pandas in a future version. Use pandas.concat instead.\n",
            "  contentDF = contentDF.append(new_row, ignore_index=True)\n",
            "<ipython-input-9-51518241e325>:4: FutureWarning: The frame.append method is deprecated and will be removed from pandas in a future version. Use pandas.concat instead.\n",
            "  contentDF = contentDF.append(new_row, ignore_index=True)\n",
            "<ipython-input-9-51518241e325>:4: FutureWarning: The frame.append method is deprecated and will be removed from pandas in a future version. Use pandas.concat instead.\n",
            "  contentDF = contentDF.append(new_row, ignore_index=True)\n",
            "<ipython-input-9-51518241e325>:4: FutureWarning: The frame.append method is deprecated and will be removed from pandas in a future version. Use pandas.concat instead.\n",
            "  contentDF = contentDF.append(new_row, ignore_index=True)\n",
            "<ipython-input-9-51518241e325>:4: FutureWarning: The frame.append method is deprecated and will be removed from pandas in a future version. Use pandas.concat instead.\n",
            "  contentDF = contentDF.append(new_row, ignore_index=True)\n",
            "<ipython-input-9-51518241e325>:4: FutureWarning: The frame.append method is deprecated and will be removed from pandas in a future version. Use pandas.concat instead.\n",
            "  contentDF = contentDF.append(new_row, ignore_index=True)\n",
            "<ipython-input-9-51518241e325>:4: FutureWarning: The frame.append method is deprecated and will be removed from pandas in a future version. Use pandas.concat instead.\n",
            "  contentDF = contentDF.append(new_row, ignore_index=True)\n",
            "<ipython-input-9-51518241e325>:4: FutureWarning: The frame.append method is deprecated and will be removed from pandas in a future version. Use pandas.concat instead.\n",
            "  contentDF = contentDF.append(new_row, ignore_index=True)\n",
            "<ipython-input-9-51518241e325>:4: FutureWarning: The frame.append method is deprecated and will be removed from pandas in a future version. Use pandas.concat instead.\n",
            "  contentDF = contentDF.append(new_row, ignore_index=True)\n",
            "<ipython-input-9-51518241e325>:4: FutureWarning: The frame.append method is deprecated and will be removed from pandas in a future version. Use pandas.concat instead.\n",
            "  contentDF = contentDF.append(new_row, ignore_index=True)\n",
            "<ipython-input-9-51518241e325>:4: FutureWarning: The frame.append method is deprecated and will be removed from pandas in a future version. Use pandas.concat instead.\n",
            "  contentDF = contentDF.append(new_row, ignore_index=True)\n",
            "<ipython-input-9-51518241e325>:4: FutureWarning: The frame.append method is deprecated and will be removed from pandas in a future version. Use pandas.concat instead.\n",
            "  contentDF = contentDF.append(new_row, ignore_index=True)\n",
            "<ipython-input-9-51518241e325>:4: FutureWarning: The frame.append method is deprecated and will be removed from pandas in a future version. Use pandas.concat instead.\n",
            "  contentDF = contentDF.append(new_row, ignore_index=True)\n",
            "<ipython-input-9-51518241e325>:4: FutureWarning: The frame.append method is deprecated and will be removed from pandas in a future version. Use pandas.concat instead.\n",
            "  contentDF = contentDF.append(new_row, ignore_index=True)\n",
            "<ipython-input-9-51518241e325>:4: FutureWarning: The frame.append method is deprecated and will be removed from pandas in a future version. Use pandas.concat instead.\n",
            "  contentDF = contentDF.append(new_row, ignore_index=True)\n",
            "<ipython-input-9-51518241e325>:4: FutureWarning: The frame.append method is deprecated and will be removed from pandas in a future version. Use pandas.concat instead.\n",
            "  contentDF = contentDF.append(new_row, ignore_index=True)\n",
            "<ipython-input-9-51518241e325>:4: FutureWarning: The frame.append method is deprecated and will be removed from pandas in a future version. Use pandas.concat instead.\n",
            "  contentDF = contentDF.append(new_row, ignore_index=True)\n",
            "<ipython-input-9-51518241e325>:4: FutureWarning: The frame.append method is deprecated and will be removed from pandas in a future version. Use pandas.concat instead.\n",
            "  contentDF = contentDF.append(new_row, ignore_index=True)\n",
            "<ipython-input-9-51518241e325>:4: FutureWarning: The frame.append method is deprecated and will be removed from pandas in a future version. Use pandas.concat instead.\n",
            "  contentDF = contentDF.append(new_row, ignore_index=True)\n",
            "<ipython-input-9-51518241e325>:4: FutureWarning: The frame.append method is deprecated and will be removed from pandas in a future version. Use pandas.concat instead.\n",
            "  contentDF = contentDF.append(new_row, ignore_index=True)\n",
            "<ipython-input-9-51518241e325>:4: FutureWarning: The frame.append method is deprecated and will be removed from pandas in a future version. Use pandas.concat instead.\n",
            "  contentDF = contentDF.append(new_row, ignore_index=True)\n",
            "<ipython-input-9-51518241e325>:4: FutureWarning: The frame.append method is deprecated and will be removed from pandas in a future version. Use pandas.concat instead.\n",
            "  contentDF = contentDF.append(new_row, ignore_index=True)\n",
            "<ipython-input-9-51518241e325>:4: FutureWarning: The frame.append method is deprecated and will be removed from pandas in a future version. Use pandas.concat instead.\n",
            "  contentDF = contentDF.append(new_row, ignore_index=True)\n",
            "<ipython-input-9-51518241e325>:4: FutureWarning: The frame.append method is deprecated and will be removed from pandas in a future version. Use pandas.concat instead.\n",
            "  contentDF = contentDF.append(new_row, ignore_index=True)\n",
            "<ipython-input-9-51518241e325>:4: FutureWarning: The frame.append method is deprecated and will be removed from pandas in a future version. Use pandas.concat instead.\n",
            "  contentDF = contentDF.append(new_row, ignore_index=True)\n",
            "<ipython-input-9-51518241e325>:4: FutureWarning: The frame.append method is deprecated and will be removed from pandas in a future version. Use pandas.concat instead.\n",
            "  contentDF = contentDF.append(new_row, ignore_index=True)\n",
            "<ipython-input-9-51518241e325>:4: FutureWarning: The frame.append method is deprecated and will be removed from pandas in a future version. Use pandas.concat instead.\n",
            "  contentDF = contentDF.append(new_row, ignore_index=True)\n",
            "<ipython-input-9-51518241e325>:4: FutureWarning: The frame.append method is deprecated and will be removed from pandas in a future version. Use pandas.concat instead.\n",
            "  contentDF = contentDF.append(new_row, ignore_index=True)\n",
            "<ipython-input-9-51518241e325>:4: FutureWarning: The frame.append method is deprecated and will be removed from pandas in a future version. Use pandas.concat instead.\n",
            "  contentDF = contentDF.append(new_row, ignore_index=True)\n",
            "<ipython-input-9-51518241e325>:4: FutureWarning: The frame.append method is deprecated and will be removed from pandas in a future version. Use pandas.concat instead.\n",
            "  contentDF = contentDF.append(new_row, ignore_index=True)\n",
            "<ipython-input-9-51518241e325>:4: FutureWarning: The frame.append method is deprecated and will be removed from pandas in a future version. Use pandas.concat instead.\n",
            "  contentDF = contentDF.append(new_row, ignore_index=True)\n",
            "<ipython-input-9-51518241e325>:4: FutureWarning: The frame.append method is deprecated and will be removed from pandas in a future version. Use pandas.concat instead.\n",
            "  contentDF = contentDF.append(new_row, ignore_index=True)\n",
            "<ipython-input-9-51518241e325>:4: FutureWarning: The frame.append method is deprecated and will be removed from pandas in a future version. Use pandas.concat instead.\n",
            "  contentDF = contentDF.append(new_row, ignore_index=True)\n",
            "<ipython-input-9-51518241e325>:4: FutureWarning: The frame.append method is deprecated and will be removed from pandas in a future version. Use pandas.concat instead.\n",
            "  contentDF = contentDF.append(new_row, ignore_index=True)\n",
            "<ipython-input-9-51518241e325>:4: FutureWarning: The frame.append method is deprecated and will be removed from pandas in a future version. Use pandas.concat instead.\n",
            "  contentDF = contentDF.append(new_row, ignore_index=True)\n",
            "<ipython-input-9-51518241e325>:4: FutureWarning: The frame.append method is deprecated and will be removed from pandas in a future version. Use pandas.concat instead.\n",
            "  contentDF = contentDF.append(new_row, ignore_index=True)\n",
            "<ipython-input-9-51518241e325>:4: FutureWarning: The frame.append method is deprecated and will be removed from pandas in a future version. Use pandas.concat instead.\n",
            "  contentDF = contentDF.append(new_row, ignore_index=True)\n",
            "<ipython-input-9-51518241e325>:4: FutureWarning: The frame.append method is deprecated and will be removed from pandas in a future version. Use pandas.concat instead.\n",
            "  contentDF = contentDF.append(new_row, ignore_index=True)\n",
            "<ipython-input-9-51518241e325>:4: FutureWarning: The frame.append method is deprecated and will be removed from pandas in a future version. Use pandas.concat instead.\n",
            "  contentDF = contentDF.append(new_row, ignore_index=True)\n",
            "<ipython-input-9-51518241e325>:4: FutureWarning: The frame.append method is deprecated and will be removed from pandas in a future version. Use pandas.concat instead.\n",
            "  contentDF = contentDF.append(new_row, ignore_index=True)\n",
            "<ipython-input-9-51518241e325>:4: FutureWarning: The frame.append method is deprecated and will be removed from pandas in a future version. Use pandas.concat instead.\n",
            "  contentDF = contentDF.append(new_row, ignore_index=True)\n",
            "<ipython-input-9-51518241e325>:4: FutureWarning: The frame.append method is deprecated and will be removed from pandas in a future version. Use pandas.concat instead.\n",
            "  contentDF = contentDF.append(new_row, ignore_index=True)\n",
            "<ipython-input-9-51518241e325>:4: FutureWarning: The frame.append method is deprecated and will be removed from pandas in a future version. Use pandas.concat instead.\n",
            "  contentDF = contentDF.append(new_row, ignore_index=True)\n",
            "<ipython-input-9-51518241e325>:4: FutureWarning: The frame.append method is deprecated and will be removed from pandas in a future version. Use pandas.concat instead.\n",
            "  contentDF = contentDF.append(new_row, ignore_index=True)\n",
            "<ipython-input-9-51518241e325>:4: FutureWarning: The frame.append method is deprecated and will be removed from pandas in a future version. Use pandas.concat instead.\n",
            "  contentDF = contentDF.append(new_row, ignore_index=True)\n",
            "<ipython-input-9-51518241e325>:4: FutureWarning: The frame.append method is deprecated and will be removed from pandas in a future version. Use pandas.concat instead.\n",
            "  contentDF = contentDF.append(new_row, ignore_index=True)\n",
            "<ipython-input-9-51518241e325>:4: FutureWarning: The frame.append method is deprecated and will be removed from pandas in a future version. Use pandas.concat instead.\n",
            "  contentDF = contentDF.append(new_row, ignore_index=True)\n",
            "<ipython-input-9-51518241e325>:4: FutureWarning: The frame.append method is deprecated and will be removed from pandas in a future version. Use pandas.concat instead.\n",
            "  contentDF = contentDF.append(new_row, ignore_index=True)\n",
            "<ipython-input-9-51518241e325>:4: FutureWarning: The frame.append method is deprecated and will be removed from pandas in a future version. Use pandas.concat instead.\n",
            "  contentDF = contentDF.append(new_row, ignore_index=True)\n",
            "<ipython-input-9-51518241e325>:4: FutureWarning: The frame.append method is deprecated and will be removed from pandas in a future version. Use pandas.concat instead.\n",
            "  contentDF = contentDF.append(new_row, ignore_index=True)\n",
            "<ipython-input-9-51518241e325>:4: FutureWarning: The frame.append method is deprecated and will be removed from pandas in a future version. Use pandas.concat instead.\n",
            "  contentDF = contentDF.append(new_row, ignore_index=True)\n",
            "<ipython-input-9-51518241e325>:4: FutureWarning: The frame.append method is deprecated and will be removed from pandas in a future version. Use pandas.concat instead.\n",
            "  contentDF = contentDF.append(new_row, ignore_index=True)\n",
            "<ipython-input-9-51518241e325>:4: FutureWarning: The frame.append method is deprecated and will be removed from pandas in a future version. Use pandas.concat instead.\n",
            "  contentDF = contentDF.append(new_row, ignore_index=True)\n",
            "<ipython-input-9-51518241e325>:4: FutureWarning: The frame.append method is deprecated and will be removed from pandas in a future version. Use pandas.concat instead.\n",
            "  contentDF = contentDF.append(new_row, ignore_index=True)\n",
            "<ipython-input-9-51518241e325>:4: FutureWarning: The frame.append method is deprecated and will be removed from pandas in a future version. Use pandas.concat instead.\n",
            "  contentDF = contentDF.append(new_row, ignore_index=True)\n",
            "<ipython-input-9-51518241e325>:4: FutureWarning: The frame.append method is deprecated and will be removed from pandas in a future version. Use pandas.concat instead.\n",
            "  contentDF = contentDF.append(new_row, ignore_index=True)\n",
            "<ipython-input-9-51518241e325>:4: FutureWarning: The frame.append method is deprecated and will be removed from pandas in a future version. Use pandas.concat instead.\n",
            "  contentDF = contentDF.append(new_row, ignore_index=True)\n",
            "<ipython-input-9-51518241e325>:4: FutureWarning: The frame.append method is deprecated and will be removed from pandas in a future version. Use pandas.concat instead.\n",
            "  contentDF = contentDF.append(new_row, ignore_index=True)\n",
            "<ipython-input-9-51518241e325>:4: FutureWarning: The frame.append method is deprecated and will be removed from pandas in a future version. Use pandas.concat instead.\n",
            "  contentDF = contentDF.append(new_row, ignore_index=True)\n",
            "<ipython-input-9-51518241e325>:4: FutureWarning: The frame.append method is deprecated and will be removed from pandas in a future version. Use pandas.concat instead.\n",
            "  contentDF = contentDF.append(new_row, ignore_index=True)\n",
            "<ipython-input-9-51518241e325>:4: FutureWarning: The frame.append method is deprecated and will be removed from pandas in a future version. Use pandas.concat instead.\n",
            "  contentDF = contentDF.append(new_row, ignore_index=True)\n",
            "<ipython-input-9-51518241e325>:4: FutureWarning: The frame.append method is deprecated and will be removed from pandas in a future version. Use pandas.concat instead.\n",
            "  contentDF = contentDF.append(new_row, ignore_index=True)\n",
            "<ipython-input-9-51518241e325>:4: FutureWarning: The frame.append method is deprecated and will be removed from pandas in a future version. Use pandas.concat instead.\n",
            "  contentDF = contentDF.append(new_row, ignore_index=True)\n",
            "<ipython-input-9-51518241e325>:4: FutureWarning: The frame.append method is deprecated and will be removed from pandas in a future version. Use pandas.concat instead.\n",
            "  contentDF = contentDF.append(new_row, ignore_index=True)\n",
            "<ipython-input-9-51518241e325>:4: FutureWarning: The frame.append method is deprecated and will be removed from pandas in a future version. Use pandas.concat instead.\n",
            "  contentDF = contentDF.append(new_row, ignore_index=True)\n",
            "<ipython-input-9-51518241e325>:4: FutureWarning: The frame.append method is deprecated and will be removed from pandas in a future version. Use pandas.concat instead.\n",
            "  contentDF = contentDF.append(new_row, ignore_index=True)\n",
            "<ipython-input-9-51518241e325>:4: FutureWarning: The frame.append method is deprecated and will be removed from pandas in a future version. Use pandas.concat instead.\n",
            "  contentDF = contentDF.append(new_row, ignore_index=True)\n",
            "<ipython-input-9-51518241e325>:4: FutureWarning: The frame.append method is deprecated and will be removed from pandas in a future version. Use pandas.concat instead.\n",
            "  contentDF = contentDF.append(new_row, ignore_index=True)\n",
            "<ipython-input-9-51518241e325>:4: FutureWarning: The frame.append method is deprecated and will be removed from pandas in a future version. Use pandas.concat instead.\n",
            "  contentDF = contentDF.append(new_row, ignore_index=True)\n",
            "<ipython-input-9-51518241e325>:4: FutureWarning: The frame.append method is deprecated and will be removed from pandas in a future version. Use pandas.concat instead.\n",
            "  contentDF = contentDF.append(new_row, ignore_index=True)\n",
            "<ipython-input-9-51518241e325>:4: FutureWarning: The frame.append method is deprecated and will be removed from pandas in a future version. Use pandas.concat instead.\n",
            "  contentDF = contentDF.append(new_row, ignore_index=True)\n",
            "<ipython-input-9-51518241e325>:4: FutureWarning: The frame.append method is deprecated and will be removed from pandas in a future version. Use pandas.concat instead.\n",
            "  contentDF = contentDF.append(new_row, ignore_index=True)\n",
            "<ipython-input-9-51518241e325>:4: FutureWarning: The frame.append method is deprecated and will be removed from pandas in a future version. Use pandas.concat instead.\n",
            "  contentDF = contentDF.append(new_row, ignore_index=True)\n",
            "<ipython-input-9-51518241e325>:4: FutureWarning: The frame.append method is deprecated and will be removed from pandas in a future version. Use pandas.concat instead.\n",
            "  contentDF = contentDF.append(new_row, ignore_index=True)\n",
            "<ipython-input-9-51518241e325>:4: FutureWarning: The frame.append method is deprecated and will be removed from pandas in a future version. Use pandas.concat instead.\n",
            "  contentDF = contentDF.append(new_row, ignore_index=True)\n",
            "<ipython-input-9-51518241e325>:4: FutureWarning: The frame.append method is deprecated and will be removed from pandas in a future version. Use pandas.concat instead.\n",
            "  contentDF = contentDF.append(new_row, ignore_index=True)\n",
            "<ipython-input-9-51518241e325>:4: FutureWarning: The frame.append method is deprecated and will be removed from pandas in a future version. Use pandas.concat instead.\n",
            "  contentDF = contentDF.append(new_row, ignore_index=True)\n",
            "<ipython-input-9-51518241e325>:4: FutureWarning: The frame.append method is deprecated and will be removed from pandas in a future version. Use pandas.concat instead.\n",
            "  contentDF = contentDF.append(new_row, ignore_index=True)\n",
            "<ipython-input-9-51518241e325>:4: FutureWarning: The frame.append method is deprecated and will be removed from pandas in a future version. Use pandas.concat instead.\n",
            "  contentDF = contentDF.append(new_row, ignore_index=True)\n",
            "<ipython-input-9-51518241e325>:4: FutureWarning: The frame.append method is deprecated and will be removed from pandas in a future version. Use pandas.concat instead.\n",
            "  contentDF = contentDF.append(new_row, ignore_index=True)\n",
            "<ipython-input-9-51518241e325>:4: FutureWarning: The frame.append method is deprecated and will be removed from pandas in a future version. Use pandas.concat instead.\n",
            "  contentDF = contentDF.append(new_row, ignore_index=True)\n",
            "<ipython-input-9-51518241e325>:4: FutureWarning: The frame.append method is deprecated and will be removed from pandas in a future version. Use pandas.concat instead.\n",
            "  contentDF = contentDF.append(new_row, ignore_index=True)\n",
            "<ipython-input-9-51518241e325>:4: FutureWarning: The frame.append method is deprecated and will be removed from pandas in a future version. Use pandas.concat instead.\n",
            "  contentDF = contentDF.append(new_row, ignore_index=True)\n",
            "<ipython-input-9-51518241e325>:4: FutureWarning: The frame.append method is deprecated and will be removed from pandas in a future version. Use pandas.concat instead.\n",
            "  contentDF = contentDF.append(new_row, ignore_index=True)\n",
            "<ipython-input-9-51518241e325>:4: FutureWarning: The frame.append method is deprecated and will be removed from pandas in a future version. Use pandas.concat instead.\n",
            "  contentDF = contentDF.append(new_row, ignore_index=True)\n",
            "<ipython-input-9-51518241e325>:4: FutureWarning: The frame.append method is deprecated and will be removed from pandas in a future version. Use pandas.concat instead.\n",
            "  contentDF = contentDF.append(new_row, ignore_index=True)\n",
            "<ipython-input-9-51518241e325>:4: FutureWarning: The frame.append method is deprecated and will be removed from pandas in a future version. Use pandas.concat instead.\n",
            "  contentDF = contentDF.append(new_row, ignore_index=True)\n",
            "<ipython-input-9-51518241e325>:4: FutureWarning: The frame.append method is deprecated and will be removed from pandas in a future version. Use pandas.concat instead.\n",
            "  contentDF = contentDF.append(new_row, ignore_index=True)\n",
            "<ipython-input-9-51518241e325>:4: FutureWarning: The frame.append method is deprecated and will be removed from pandas in a future version. Use pandas.concat instead.\n",
            "  contentDF = contentDF.append(new_row, ignore_index=True)\n",
            "<ipython-input-9-51518241e325>:4: FutureWarning: The frame.append method is deprecated and will be removed from pandas in a future version. Use pandas.concat instead.\n",
            "  contentDF = contentDF.append(new_row, ignore_index=True)\n",
            "<ipython-input-9-51518241e325>:4: FutureWarning: The frame.append method is deprecated and will be removed from pandas in a future version. Use pandas.concat instead.\n",
            "  contentDF = contentDF.append(new_row, ignore_index=True)\n",
            "<ipython-input-9-51518241e325>:4: FutureWarning: The frame.append method is deprecated and will be removed from pandas in a future version. Use pandas.concat instead.\n",
            "  contentDF = contentDF.append(new_row, ignore_index=True)\n",
            "<ipython-input-9-51518241e325>:4: FutureWarning: The frame.append method is deprecated and will be removed from pandas in a future version. Use pandas.concat instead.\n",
            "  contentDF = contentDF.append(new_row, ignore_index=True)\n",
            "<ipython-input-9-51518241e325>:4: FutureWarning: The frame.append method is deprecated and will be removed from pandas in a future version. Use pandas.concat instead.\n",
            "  contentDF = contentDF.append(new_row, ignore_index=True)\n"
          ]
        }
      ]
    },
    {
      "cell_type": "code",
      "source": [
        "contentDF.to_csv(\"fake_content.csv\")"
      ],
      "metadata": {
        "id": "jQxxXLJks70N"
      },
      "execution_count": 10,
      "outputs": []
    }
  ],
  "metadata": {
    "kernelspec": {
      "display_name": "Python 3",
      "name": "python3"
    },
    "language_info": {
      "codemirror_mode": {
        "name": "ipython",
        "version": 3
      },
      "file_extension": ".py",
      "mimetype": "text/x-python",
      "name": "python",
      "nbconvert_exporter": "python",
      "pygments_lexer": "ipython3",
      "version": "3.8.5"
    },
    "colab": {
      "provenance": [],
      "gpuType": "T4",
      "machine_shape": "hm"
    },
    "accelerator": "GPU"
  },
  "nbformat": 4,
  "nbformat_minor": 0
}