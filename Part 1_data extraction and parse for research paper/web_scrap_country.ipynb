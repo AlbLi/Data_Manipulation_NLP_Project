{
 "cells": [
  {
   "cell_type": "code",
   "execution_count": 2,
   "metadata": {},
   "outputs": [],
   "source": [
    "import pandas as pd\n",
    "import requests\n",
    "from bs4 import BeautifulSoup\n",
    "from selenium import webdriver\n",
    "import tabula\n",
    "from selenium.webdriver.common.keys import Keys\n",
    "from selenium.webdriver.common.by import By\n",
    "import time\n",
    "import wikipediaapi"
   ]
  },
  {
   "cell_type": "markdown",
   "metadata": {},
   "source": [
    "### Replace punctuation by space so it can be accessed as the suffix for wikipedia "
   ]
  },
  {
   "cell_type": "code",
   "execution_count": 3,
   "metadata": {},
   "outputs": [],
   "source": [
    "df_updated_bik_rg = pd.read_csv('updated_bik_rg.csv')\n",
    "df_updated_bik_rg['university/institution'].fillna(value='missing', inplace=True)\n",
    "\n",
    "temporary_list = list(df_updated_bik_rg.loc[:,'university/institution'])\n",
    "new_list = []\n",
    "for ele in temporary_list:\n",
    "    if ele != 'missing':\n",
    "        new_list.append(ele.replace(\"-\", \" \").replace(\",\", \" \").replace(\"-\", \" \").replace(\"(\", \" \").replace(\")\", \" \"))\n",
    "    else:\n",
    "        new_list.append(ele)"
   ]
  },
  {
   "cell_type": "code",
   "execution_count": 4,
   "metadata": {},
   "outputs": [],
   "source": [
    "df_updated_bik_rg['university/institution'] = new_list\n",
    "df_updated_bik_rg['university/institution'] = new_list\n",
    "df_updated_one = df_updated_bik_rg"
   ]
  },
  {
   "cell_type": "markdown",
   "metadata": {},
   "source": [
    "### Build url searching list"
   ]
  },
  {
   "cell_type": "code",
   "execution_count": 5,
   "metadata": {},
   "outputs": [],
   "source": [
    "base_url = 'https://en.wikipedia.org/wiki/'\n",
    "urls = []\n",
    "\n",
    "for name in new_list:\n",
    "    if name != \"missing\":\n",
    "        suffix = name.strip().replace(\" \", \"_\")\n",
    "        url = base_url + suffix\n",
    "        urls.append(url)\n",
    "    else:\n",
    "        urls.append(\"missing_url\")"
   ]
  },
  {
   "cell_type": "code",
   "execution_count": 6,
   "metadata": {},
   "outputs": [],
   "source": [
    "def get_college_location(url):\n",
    "    response = requests.get(url)\n",
    "    if response.status_code == 200:\n",
    "        soup = BeautifulSoup(response.text, 'html.parser')\n",
    "        location_elem = soup.find('div', class_='country-name')\n",
    "        if location_elem:\n",
    "            return location_elem.get_text(strip=True)\n",
    "        else:\n",
    "            return \"Location information not found\"\n",
    "    else:\n",
    "        return \"Failed to fetch page\""
   ]
  },
  {
   "cell_type": "markdown",
   "metadata": {},
   "source": [
    "### Web Scrapping"
   ]
  },
  {
   "cell_type": "code",
   "execution_count": 7,
   "metadata": {},
   "outputs": [],
   "source": [
    "college_locations = []\n",
    "for url in urls:\n",
    "    if url != \"missing_url\":\n",
    "        location = get_college_location(url)\n",
    "        if location == \"Location information not found\":\n",
    "            college_locations.append(\"missing_location\")\n",
    "        else:\n",
    "            college_locations.append(location)\n",
    "    else:\n",
    "        college_locations.append(\"missing_location\")\n",
    "\n",
    "df_updated_one['Location_List'] = college_locations"
   ]
  },
  {
   "cell_type": "code",
   "execution_count": 8,
   "metadata": {},
   "outputs": [
    {
     "data": {
      "text/plain": [
       "0                   Germany\n",
       "1             United States\n",
       "2             United States\n",
       "3                      U.S.\n",
       "4             United States\n",
       "               ...         \n",
       "209    Failed to fetch page\n",
       "210    Failed to fetch page\n",
       "211           United States\n",
       "212        missing_location\n",
       "213                   China\n",
       "Name: Location_List, Length: 214, dtype: object"
      ]
     },
     "execution_count": 8,
     "metadata": {},
     "output_type": "execute_result"
    }
   ],
   "source": [
    "df_updated_one['Location_List']"
   ]
  },
  {
   "cell_type": "markdown",
   "metadata": {},
   "source": [
    "### Clean some country name by programming"
   ]
  },
  {
   "cell_type": "code",
   "execution_count": 9,
   "metadata": {},
   "outputs": [],
   "source": [
    "def get_cleaned_name(name):\n",
    "    if name in ['U.S.','United States[11][note 3]','US','United States]']:\n",
    "        return \"United States\"\n",
    "    elif name in ['Scotland,UK','Northern Ireland','Wales']:\n",
    "        return \"United Kingdom\"\n",
    "    elif name == 'AustraliaUnited Arab EmiratesSingaporeMyanmar':\n",
    "        return 'Australia'\n",
    "    elif name == 'Canada[a]':\n",
    "        return 'Canada'\n",
    "    elif name in [ \"People's Republic of China\",'CHN']:\n",
    "        return \"China\"\n",
    "    else:\n",
    "        return name"
   ]
  },
  {
   "cell_type": "code",
   "execution_count": 10,
   "metadata": {},
   "outputs": [],
   "source": [
    "df_updated_one['Location_List'] = df_updated_one['Location_List'].apply(get_cleaned_name)"
   ]
  },
  {
   "cell_type": "code",
   "execution_count": 11,
   "metadata": {},
   "outputs": [
    {
     "data": {
      "text/plain": [
       "0                   Germany\n",
       "1             United States\n",
       "2             United States\n",
       "3             United States\n",
       "4             United States\n",
       "               ...         \n",
       "209    Failed to fetch page\n",
       "210    Failed to fetch page\n",
       "211           United States\n",
       "212        missing_location\n",
       "213                   China\n",
       "Name: Location_List, Length: 214, dtype: object"
      ]
     },
     "execution_count": 11,
     "metadata": {},
     "output_type": "execute_result"
    }
   ],
   "source": [
    "df_updated_one['Location_List']"
   ]
  }
 ],
 "metadata": {
  "kernelspec": {
   "display_name": "hw1venv",
   "language": "python",
   "name": "python3"
  },
  "language_info": {
   "codemirror_mode": {
    "name": "ipython",
    "version": 3
   },
   "file_extension": ".py",
   "mimetype": "text/x-python",
   "name": "python",
   "nbconvert_exporter": "python",
   "pygments_lexer": "ipython3",
   "version": "3.10.11"
  },
  "orig_nbformat": 4
 },
 "nbformat": 4,
 "nbformat_minor": 2
}
